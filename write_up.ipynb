{
 "cells": [
  {
   "cell_type": "markdown",
   "metadata": {},
   "source": [
    "# Lab 03\n",
    "## Ethan Rasset\n"
   ]
  },
  {
   "cell_type": "code",
   "execution_count": 1,
   "metadata": {},
   "outputs": [],
   "source": [
    "import numpy as np\n",
    "from matplotlib import pyplot as plt\n",
    "import scipy.integrate as sim\n",
    "from integrators import simpsons_rule, trapezoidal_rule_loop\n",
    "import math"
   ]
  },
  {
   "cell_type": "markdown",
   "metadata": {},
   "source": [
    "## Part 1"
   ]
  },
  {
   "cell_type": "code",
   "execution_count": 2,
   "metadata": {},
   "outputs": [],
   "source": [
    "def test_function(x):\n",
    "    \"\"\"\n",
    "    This function will return a value for 1/3 x^3 - 11/4 x^2 + 7x\n",
    "    Parameters\n",
    "    ----------\n",
    "    x:number (float)\n",
    "        Point at which to evaluate the function.\n",
    "\n",
    "    Returns\n",
    "    -------\n",
    "    float\n",
    "        the value or output of the equation.\n",
    "    \"\"\"\n",
    "\n",
    "    y=((1/3)*x**3)-((11/4)*x**2)+7*x\n",
    "    return y"
   ]
  },
  {
   "cell_type": "code",
   "execution_count": 3,
   "metadata": {},
   "outputs": [
    {
     "name": "stdout",
     "output_type": "stream",
     "text": "0.0\n128.33333333333331\n1706.6666666666665\n611.25\n"
    }
   ],
   "source": [
    "#Testing the cell above.\n",
    "test_list=[0,10,20,15]\n",
    "for it in range (len(test_list)):\n",
    "    print(test_function(test_list[it]))"
   ]
  },
  {
   "cell_type": "code",
   "execution_count": 4,
   "metadata": {},
   "outputs": [
    {
     "data": {
      "text/plain": "'#This was a mess up, I was suppose to used the analytical solution part, so this will be helpful later I just turned it off, skip the next two cells. \\ndef integral_of_test_function(a,b):\\n    This function is going to calculate the intergral of a given equation using the trapezoid rule.\\n\\n    Parameters\\n    ----------\\n    a:number(float)\\n        the lower limit\\n    b:number(float)\\n        the upper limit\\n\\n    Returns\\n    -------\\n    float\\n        The area under the curve, or the integral.\\n\\n\\n    num_of_reg=10000\\n    h=(b-a)/num_of_reg\\n    total_bef=0\\n    for ct in range(0,num_of_reg-1):\\n        #the test function can be changed out for any function at any time.\\n        total_bef+=test_function(a+h*ct)+test_function(a+h*(ct+1))\\n    total=(h/2)*total_bef\\n    return total\\n\\n\\n'"
     },
     "execution_count": 4,
     "metadata": {},
     "output_type": "execute_result"
    }
   ],
   "source": [
    "\"\"\"#This was a mess up, I was suppose to used the analytical solution part, so this will be helpful later I just turned it off, skip the next two cells. \n",
    "def integral_of_test_function(a,b):\n",
    "    This function is going to calculate the intergral of a given equation using the trapezoid rule.\n",
    "\n",
    "    Parameters\n",
    "    ----------\n",
    "    a:number(float)\n",
    "        the lower limit\n",
    "    b:number(float)\n",
    "        the upper limit\n",
    "\n",
    "    Returns\n",
    "    -------\n",
    "    float\n",
    "        The area under the curve, or the integral.\n",
    "\n",
    "\n",
    "    num_of_reg=10000\n",
    "    h=(b-a)/num_of_reg\n",
    "    total_bef=0\n",
    "    for ct in range(0,num_of_reg-1):\n",
    "        #the test function can be changed out for any function at any time.\n",
    "        total_bef+=test_function(a+h*ct)+test_function(a+h*(ct+1))\n",
    "    total=(h/2)*total_bef\n",
    "    return total\n",
    "\n",
    "\n",
    "\"\"\"\n"
   ]
  },
  {
   "cell_type": "code",
   "execution_count": 5,
   "metadata": {},
   "outputs": [
    {
     "data": {
      "text/plain": "'#Testing the above function\\na=[0,1,2,3,10]\\nb=[1,2,10,5,14] #The b value is always bigger then the a value, atleast how we look at it. \\nfor item in range(0,len(a)):\\n    print(integral_of_test_function(a[item],b[item]))'"
     },
     "execution_count": 5,
     "metadata": {},
     "output_type": "execute_result"
    }
   ],
   "source": [
    "\"\"\"#Testing the above function\n",
    "a=[0,1,2,3,10]\n",
    "b=[1,2,10,5,14] #The b value is always bigger then the a value, atleast how we look at it. \n",
    "for item in range(0,len(a)):\n",
    "    print(integral_of_test_function(a[item],b[item]))\"\"\"\n"
   ]
  },
  {
   "cell_type": "code",
   "execution_count": 6,
   "metadata": {},
   "outputs": [],
   "source": [
    "#This is what I was supposet to do on part 1\n",
    "def integral_of_test_function2(a,b):\n",
    "    \"\"\"This is a function that will use the analytical solution of the equation to get the answer.\n",
    "\n",
    "    Parameters\n",
    "    ----------\n",
    "\n",
    "    a:number(float)\n",
    "        the lower limit of the integral.\n",
    "    b:number(float)\n",
    "        the upper limit of the integral.\n",
    "    \n",
    "    Returns\n",
    "    -------\n",
    "\n",
    "    float\n",
    "        the area under the curve or the integral. \n",
    "    \"\"\"\n",
    "    area=((-1/12)*a**4)+((1/12)*b**4)+((11/12)*a**3)-((11/12)*b**3)-((7/2)*a**2)+((7/2)*b**2)\n",
    "    return area"
   ]
  },
  {
   "cell_type": "code",
   "execution_count": 7,
   "metadata": {},
   "outputs": [
    {
     "name": "stdout",
     "output_type": "stream",
     "text": "2.666666666666667\n5.333333333333334\n258.66666666666663\n11.5\n1105.3333333333335\n"
    }
   ],
   "source": [
    "#Testing the above function\n",
    "a=[0,1,2,3,10]\n",
    "b=[1,2,10,5,14] #The b value is always bigger then the a value, atleast how we look at it. \n",
    "for item in range(0,len(a)):\n",
    "    print(integral_of_test_function2(a[item],b[item]))"
   ]
  },
  {
   "cell_type": "markdown",
   "metadata": {},
   "source": [
    "Discussion of part 1\n",
    "For checking the code I did a few by hand and calculater for the lower values, and for the bigger one's I went online and used and integral calculator. The first thing that I saw was that this produces really exact answers. they are close.  The other thing I will mention is that I did acidently write a trapazodal rule already and ran it.  In that case the more sub intervals that you use the more accurate a result you will get."
   ]
  },
  {
   "cell_type": "markdown",
   "metadata": {},
   "source": [
    "## Part 2"
   ]
  },
  {
   "cell_type": "code",
   "execution_count": 8,
   "metadata": {},
   "outputs": [
    {
     "name": "stdout",
     "output_type": "stream",
     "text": "1106.3199999999997\n1105.3431999999996\n1105.3334320000001\n1105.3333333334535\n"
    }
   ],
   "source": [
    "#Looking at the trapezoidal rule loop\n",
    "#This area I am using to test the N values of the above function.\n",
    "\n",
    "N=[10,100,1000,1000000]\n",
    "for item in range(0,len(N)):\n",
    "    print(trapezoidal_rule_loop(10,14, test_function, N[item]))\n"
   ]
  },
  {
   "cell_type": "markdown",
   "metadata": {},
   "source": [
    "Discussion of this part\n",
    "The main thing I am going to say is that the bigger the N value, the more accurate the number becomes.  So the larger the N number the closer the value will be to the output from the test_function_integral."
   ]
  },
  {
   "cell_type": "code",
   "execution_count": 9,
   "metadata": {},
   "outputs": [],
   "source": [
    "#defining the trapezoidal rule and NOT using a for loop.\n",
    "def trapezoidal_rule(a, b, function, N=10):\n",
    "    \"\"\"This was a little more of a challenge.  To do an integral by using the trapezoidal rule to average the area, but not using for loops.\n",
    "\n",
    "    Parameters\n",
    "    ----------\n",
    "\n",
    "    a:float\n",
    "        lower limit of integration.\n",
    "    \n",
    "    b: float\n",
    "        upper limit of integration.\n",
    "\n",
    "    function: function\n",
    "        The integrand that we want to find the are of.\n",
    "    \n",
    "    Returns\n",
    "    -------\n",
    "        An estimant of the integral, or the area under the curve that was put in as the function.  \n",
    "    \"\"\"\n",
    "\n",
    "    h=(b-a)/N\n",
    "    array=np.arange(0, N, 1)\n",
    "    array=function(a+h*array)+function(a+h*(array+1))\n",
    "    total=(h/2)*(sum(array))\n",
    "    return total"
   ]
  },
  {
   "cell_type": "code",
   "execution_count": 10,
   "metadata": {},
   "outputs": [
    {
     "name": "stdout",
     "output_type": "stream",
     "text": "1106.3199999999997\n1105.3431999999996\n1105.3334320000001\n1105.3333333334535\n"
    }
   ],
   "source": [
    "#I am now going to test The function that does the trapezodial rule without a for loop.\n",
    "N=[10,100,1000,1000000]\n",
    "for item in range(0,len(N)):\n",
    "    print(trapezoidal_rule(10,14, test_function, N[item]))"
   ]
  },
  {
   "cell_type": "markdown",
   "metadata": {},
   "source": [
    "## Part 3"
   ]
  },
  {
   "cell_type": "code",
   "execution_count": 11,
   "metadata": {},
   "outputs": [
    {
     "name": "stdout",
     "output_type": "stream",
     "text": "N= 1\ntrap: 165129873789.37497 simp: 165129873789.37497\nN= 2\ntrap: 103097593445.34375 simp: 82420166664.0\nN= 3\ntrap: 91610134122.375 simp: 85483489150.125\nN= 4\ntrap: 87589523359.33592 simp: 82420166664.0\nN= 5\ntrap: 85728554949.01501 simp: 83081844321.00299\nN= 6\ntrap: 84717658528.59373 simp: 82420166663.99998\nN= 10\ntrap: 83247263735.25377 simp: 82420166663.99998\nN= 100\ntrap: 82428437634.71254 simp: 82420166664.0\nN= 1000\ntrap: 82420249373.70708 simp: 82420166664.0\nN= 1000000\ntrap: 82420166664.08449 simp: 82420166663.99998\n"
    }
   ],
   "source": [
    "#Testing the Simpson's rule and the trapazoid rule next to each other.\n",
    "N=[1,2,3,4,5,6,10,100,1000,1000000]\n",
    "#This is the function that we wand to integrate using the simpson's ruel\n",
    "for item in range(0,len(N)):\n",
    "    trap=trapezoidal_rule(1,1000, test_function, N[item])\n",
    "    simp=simpsons_rule(1,1000, test_function,N[item])\n",
    "    print (\"N=\",N[item])\n",
    "    print(\"trap:\",trap, \"simp:\",simp)"
   ]
  },
  {
   "cell_type": "markdown",
   "execution_count": null,
   "metadata": {},
   "outputs": [],
   "source": [
    "A few things to note about compairing the simpson's rule and the trapezoidal rule.  First off if the a and b difference is small, the trapezoidal rule get accurate evern will a small number of N.  But also to note if you make a big gap between a and b, then you can see more going on.  The first thing is they both get more accurate with more N, but the simpson's rule definantly does a better job. "
   ]
  },
  {
   "cell_type": "code",
   "execution_count": 12,
   "metadata": {},
   "outputs": [
    {
     "name": "stdout",
     "output_type": "stream",
     "text": "N= 1\ntrap: 165129873789.37497 simp: 165129873789.37497 test: 82420166664.0\nN= 2\ntrap: 103097593445.34375 simp: 82420166664.0 test: 82420166664.0\nN= 3\ntrap: 91610134122.375 simp: 85483489150.125 test: 82420166664.0\nN= 4\ntrap: 87589523359.33592 simp: 82420166664.0 test: 82420166664.0\nN= 5\ntrap: 85728554949.01501 simp: 83081844321.00299 test: 82420166664.0\nN= 6\ntrap: 84717658528.59373 simp: 82420166663.99998 test: 82420166664.0\nN= 10\ntrap: 83247263735.25377 simp: 82420166663.99998 test: 82420166664.0\nN= 100\ntrap: 82428437634.71254 simp: 82420166664.0 test: 82420166664.0\nN= 1000\ntrap: 82420249373.70708 simp: 82420166664.0 test: 82420166664.0\nN= 1000000\ntrap: 82420166664.08449 simp: 82420166663.99998 test: 82420166664.0\n"
    }
   ],
   "source": [
    "#Testing the Simpson's rule, the trapazoid rule, and our test_function_integral, next to each other.\n",
    "N=[1,2,3,4,5,6,10,100,1000,1000000]\n",
    "#This is the function that we wand to integrate using the simpson's ruel\n",
    "for item in range(0,len(N)):\n",
    "    trap=trapezoidal_rule(1,1000, test_function, N[item])\n",
    "    simp=simpsons_rule(1,1000, test_function,N[item])\n",
    "    test=integral_of_test_function2(1,1000)\n",
    "    print (\"N=\",N[item])\n",
    "    print(\"trap:\",trap, \"simp:\",simp,\"test:\",test)"
   ]
  },
  {
   "cell_type": "markdown",
   "execution_count": null,
   "metadata": {},
   "outputs": [],
   "source": [
    "From looking at the results above it is clear that the simson's rule is more accurate."
   ]
  },
  {
   "cell_type": "markdown",
   "execution_count": null,
   "metadata": {},
   "outputs": [],
   "source": [
    "Q.For the same value of N, which method is more accurate, the trapezoidal rule or simpson's rule?\n",
    "A. From looking at the results it is clear that the simpson's rule will produce a more acturate result then the trapezoidal rule for a given N value.  Other things to not is that this is becomes more defined the bigger your a to b gap is.  Also an interesting thing to note is that with an N value of 1 they produce the same results. "
   ]
  },
  {
   "cell_type": "markdown",
   "metadata": {},
   "source": [
    "## Part 4"
   ]
  },
  {
   "cell_type": "code",
   "execution_count": 13,
   "metadata": {},
   "outputs": [],
   "source": [
    "#This is going to be the function for the stefan boltzman equation.\n",
    "def Stefan_boltzman(x):\n",
    "    \"\"\"This function will return the value of the stefan boltz equation.\n",
    "\n",
    "    Parameters\n",
    "    ----------\n",
    "    \n",
    "    x:float\n",
    "        simply the point at which to eveluate the equation.\n",
    "    \n",
    "    Returns\n",
    "    --------\n",
    "    \n",
    "    y:float\n",
    "        The solution to the stefan boltz equation.\n",
    "    \"\"\"\n",
    "\n",
    "    y=0\n",
    "    if x==0:  #This will deel with the issue if someone inputs a zero.\n",
    "        y=0\n",
    "    else:\n",
    "        y=(x**3)/((math.exp(x))-1)\n",
    "    return y\n"
   ]
  },
  {
   "cell_type": "code",
   "execution_count": 14,
   "metadata": {},
   "outputs": [
    {
     "name": "stdout",
     "output_type": "stream",
     "text": "x= -100\ny= 1000000.0\nx= -11\ny= 1331.0222303350363\nx= -1\ny= 1.5819767068693265\nx= 0\ny= 0\nx= 0.1\ny= 0.009508331944775045\nx= 0.5\ny= 0.19268676031709978\nx= 1.5\ny= 0.9693570941624304\nx= 5\ny= 0.8479568632880289\nx= 10\ny= 0.04540199100968777\nx= 20\ny= 1.6489229013495295e-05\nx= 50\ny= 2.4109373099548975e-17\n"
    }
   ],
   "source": [
    "#Testing the equatinon above\n",
    "value=[-100,-11,-1,0,.1,.5,1.5,5,10,20,50]  \n",
    "for inp in range(len(value)):\n",
    "    print(\"x=\", value[inp])\n",
    "    print(\"y=\",Stefan_boltzman(value[inp]))\n",
    "#I entered negative numbers in, but I am almost certain that they are not used for doing the black body calculations, I don't think they would make sense."
   ]
  },
  {
   "cell_type": "code",
   "execution_count": 15,
   "metadata": {},
   "outputs": [
    {
     "name": "stdout",
     "output_type": "stream",
     "text": "N= 1\ntrap: 2.2264301271066517e-207 simp: 2.2264301271066517e-207 accepted: 6.493939402266828\nN= 2\ntrap: 1.042652427945811e-99 simp: 1.390203237261081e-99 accepted: 6.493939402266828\nN= 3\ntrap: 3.198757726515531e-64 simp: 3.465320870391825e-64 accepted: 6.493939402266828\nN= 4\ntrap: 1.2613331623139309e-46 simp: 1.6817775497519076e-46 accepted: 6.493939402266828\nN= 5\ntrap: 3.720075976020836e-36 simp: 4.030082307355906e-36 accepted: 6.493939402266828\nN= 6\ntrap: 3.1050470873252745e-29 simp: 4.140062783100366e-29 accepted: 6.493939402266828\nN= 10\ntrap: 1.2054686549774487e-15 simp: 1.6072915399699318e-15 accepted: 6.493939402266828\nN= 100\ntrap: 4.472039918636162 simp: 5.8113249489631125 accepted: 6.493939402266828\nN= 1000\ntrap: 6.493678985600169 simp: 6.494981068933491 accepted: 6.493939402266828\nN= 10000\ntrap: 6.493939376225164 simp: 6.493939506433496 accepted: 6.493939402266828\n"
    }
   ],
   "source": [
    "#Going to compair the estimation using the trapezoidal rule and simpson's rule.\n",
    "\n",
    "N=[1,2,3,4,5,6,10,100,1000,10000]\n",
    "\n",
    "for item in range(0,len(N)):\n",
    "    trap=trapezoidal_rule_loop(0,500, Stefan_boltzman, N[item])\n",
    "    simp=simpsons_rule(0,500, Stefan_boltzman,N[item])\n",
    "    print (\"N=\",N[item])\n",
    "    print(\"trap:\",trap, \"simp:\",simp,\"accepted:\",((math.pi**4)/15))\n",
    "\n",
    "\n",
    "    \n",
    "   "
   ]
  },
  {
   "cell_type": "markdown",
   "metadata": {},
   "source": [
    "Discussion of this part\n",
    "Q. Explain why you chose the upper and lower limits you did?\n",
    "A.  I chose the limits that I did for two reasons.  The first one being that if you look at the graph we drew in pre lab, it goes toward zero as it goes in infinity, so 500 was a big enough number.  Second I choose 500 because I tried 1000 and that was to big for it, so it seemed acceptable.\n",
    "Q.What happens to the integral in the limits? \n",
    "A.In the limits of integration that they give us it goes from 0 to 100.  Because of how the graph acts, it heads towards zero as it goes to the right, we don't need to worry about that really.\n",
    "Q. Explain what you mean by significantly?\n",
    "A. So after playing with the numbers it actually turns out you can get a fairly good approximation with an upper limit of 15 to 20, about 4 places after the decimal point.  Meaning not much after that would be significant.\n",
    "Comments:I found that the results where the estimation was good in both results.  Of corse the more N values you add the better it does. Also it is clear that you definatly need over 100 N values to get accurate.  "
   ]
  },
  {
   "cell_type": "markdown",
   "execution_count": null,
   "metadata": {},
   "outputs": [],
   "source": [
    "#Optional Part"
   ]
  },
  {
   "cell_type": "code",
   "execution_count": 16,
   "metadata": {},
   "outputs": [],
   "source": [
    "def adaptive_integrator(a,b,integrand,integrating_method,tolerance=1*10**-4):\n",
    "    \"\"\"\n",
    "    This is a smart function in short, it is ment to continue to operate until it finds an acceptable tolerance that is given.  It will just keep adding N values until it findes a good approximation.\n",
    "\n",
    "    Parameters\n",
    "    ----------\n",
    "    \n",
    "    a:float\n",
    "        Lower Limit\n",
    "    \n",
    "    b:float\n",
    "        Upper Limit\n",
    "\n",
    "    integrand:equation\n",
    "        This is the integrand we want to use.\n",
    "    \n",
    "    integration_method:estimation method\n",
    "        This is where we choose how we want to estimate the area.\n",
    "\n",
    "    tolerance:float\n",
    "        Value that we will except when the output is close enought.\n",
    "\n",
    "    Return\n",
    "    ------\n",
    "    N:int\n",
    "        the number of sections for estimating.\n",
    "    \n",
    "    integral approximation:float\n",
    "        the approximate solution to the integral.\n",
    "    \"\"\"\n",
    "    sol=0\n",
    "    error=100\n",
    "    N=10\n",
    "    value=integrating_method(a,b,integrand,N)\n",
    "    while abs(error)>tolerance:\n",
    "        N+=2\n",
    "        sol=integrating_method(a,b,integrand,N)\n",
    "        error=value-sol\n",
    "        value=sol\n",
    "    return N, sol\n",
    "\n",
    "\n",
    "\n",
    "\n"
   ]
  },
  {
   "cell_type": "code",
   "execution_count": 17,
   "metadata": {},
   "outputs": [
    {
     "name": "stdout",
     "output_type": "stream",
     "text": "N iterations:  66 ;Approx Solution:  6.494650871819125\n"
    }
   ],
   "source": [
    "#This is where I will try and test the adaptive integrator\n",
    "#I find it easier to list all the variable seperately so that is where I will start.\n",
    "a=0\n",
    "b=30\n",
    "integrating_method=simpsons_rule\n",
    "integrand=Stefan_boltzman\n",
    "tolerance=(1*10**-4)\n",
    "N,sol=adaptive_integrator(a,b,integrand,integrating_method,tolerance)\n",
    "\n",
    "print(\"N iterations: \", N,\";\" \"Approx Solution: \",sol)"
   ]
  },
  {
   "cell_type": "code",
   "execution_count": 18,
   "metadata": {},
   "outputs": [
    {
     "name": "stdout",
     "output_type": "stream",
     "text": "N iterations:  66 ;Approx Solution:  6.494650871819125\nN iterations:  104 ;Approx Solution:  6.494054798035929\nN iterations:  162 ;Approx Solution:  6.493959000266273\nN iterations:  406 ;Approx Solution:  6.493939896325175\nN iterations:  1018 ;Approx Solution:  6.493939412040424\n"
    }
   ],
   "source": [
    "#Checkin multiple tolerances\n",
    "tolerance=[10**-4,10**-5,10**-6,10**-8,10**-10,]\n",
    "\n",
    "a=0\n",
    "integrating_method=simpsons_rule\n",
    "integrand=Stefan_boltzman\n",
    "for tol in tolerance:\n",
    "    N,sol=adaptive_integrator(a,b,integrand,integrating_method,tol)\n",
    "\n",
    "    print(\"N iterations: \", N,\";\" \"Approx Solution: \",sol)\n"
   ]
  },
  {
   "cell_type": "markdown",
   "execution_count": null,
   "metadata": {},
   "outputs": [],
   "source": [
    "Just a few comments on the results.  It is clear that the more accurate you try to get the more N values you need.  The simpson's rule takes a lot of N values and grows quick as you put higher tolerances. "
   ]
  },
  {
   "cell_type": "code",
   "execution_count": 1,
   "metadata": {},
   "outputs": [
    {
     "data": {
      "text/plain": "'\\nFeedback and scoring\\nCode works well, all parts there + bonus  13/10\\nComments and discussion sufficient?  5/5  More or less--it would help to place a statement near your output     that says what the expected value is.  Otherwise, easy to get lost in the numbers.\\n'"
     },
     "execution_count": 1,
     "metadata": {},
     "output_type": "execute_result"
    }
   ],
   "source": [
    "\"\"\"\n",
    "Feedback and scoring\n",
    "Code works well, all parts there + bonus  13/10\n",
    "Comments and discussion sufficient?  5/5  More or less--it would help to place a statement near your output     that says what the expected value is.  Otherwise, easy to get lost in the numbers.\n",
    "\"\"\"\n",
    "### Final score = 18/15\n",
    "\n"
   ]
  }
 ],
 "metadata": {
  "kernelspec": {
   "display_name": "Python 3",
   "language": "python",
   "name": "python3"
  },
  "language_info": {
   "codemirror_mode": {
    "name": "ipython",
    "version": 3
   },
   "file_extension": ".py",
   "mimetype": "text/x-python",
   "name": "python",
   "nbconvert_exporter": "python",
   "pygments_lexer": "ipython3",
   "version": "3.7.6-final"
  }
 },
 "nbformat": 4,
 "nbformat_minor": 4
}